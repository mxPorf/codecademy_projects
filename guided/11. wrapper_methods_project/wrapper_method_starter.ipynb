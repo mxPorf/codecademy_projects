{
 "cells": [
  {
   "cell_type": "markdown",
   "id": "7466ae41",
   "metadata": {},
   "source": [
    "## Wrapper Methods\n",
    "\n",
    "In this project, you'll analyze data from a survey conducted by Fabio Mendoza Palechor and Alexis de la Hoz Manotas that asked people about their eating habits and weight. The data was obtained from the [UCI Machine Learning Repository](https://archive.ics.uci.edu/ml/datasets/Estimation+of+obesity+levels+based+on+eating+habits+and+physical+condition+). Categorical variables were changed to numerical ones in order to facilitate analysis.\n",
    "\n",
    "First, you'll fit a logistic regression model to try to predict whether survey respondents are obese based on their answers to questions in the survey. After that, you'll use three different wrapper methods to choose a smaller feature subset.\n",
    "\n",
    "You'll use sequential forward selection, sequential backward floating selection, and recursive feature elimination. After implementing each wrapper method, you'll evaluate the model accuracy on the resulting smaller feature subsets and compare that with the model accuracy using all available features."
   ]
  },
  {
   "cell_type": "code",
   "execution_count": 1,
   "id": "5a817079",
   "metadata": {},
   "outputs": [],
   "source": [
    "# Import libraries\n",
    "import pandas as pd\n",
    "from sklearn.linear_model import LogisticRegression\n",
    "from mlxtend.feature_selection import SequentialFeatureSelector as SFS\n",
    "from mlxtend.plotting import plot_sequential_feature_selection as plot_sfs\n",
    "import matplotlib.pyplot as plt\n",
    "from sklearn.preprocessing import StandardScaler\n",
    "from sklearn.feature_selection import RFE\n",
    "from sklearn import preprocessing\n",
    "import numpy as np"
   ]
  },
  {
   "cell_type": "markdown",
   "id": "ccc70ff3",
   "metadata": {},
   "source": [
    "## Evaluating a Logistic Regression Model\n",
    "\n",
    "The data set `obesity` contains 18 predictor variables. Here's a brief description of them.\n",
    "\n",
    "* `Gender` is `1` if a respondent is male and `0` if a respondent is female.\n",
    "* `Age` is a respondent's age in years.\n",
    "* `family_history_with_overweight` is `1` if a respondent has family member who is or was overweight, `0` if not.\n",
    "* `FAVC` is `1` if a respondent eats high caloric food frequently, `0` if not.\n",
    "* `FCVC` is `1` if a respondent usually eats vegetables in their meals, `0` if not.\n",
    "* `NCP` represents how many main meals a respondent has daily (`0` for 1-2 meals, `1` for 3 meals, and `2` for more than 3 meals).\n",
    "* `CAEC` represents how much food a respondent eats between meals on a scale of `0` to `3`.\n",
    "* `SMOKE` is `1` if a respondent smokes, `0` if not.\n",
    "* `CH2O` represents how much water a respondent drinks on a scale of `0` to `2`.\n",
    "* `SCC` is `1` if a respondent monitors their caloric intake, `0` if not.\n",
    "* `FAF` represents how much physical activity a respondent does on a scale of `0` to `3`.\n",
    "* `TUE` represents how much time a respondent spends looking at devices with screens on a scale of `0` to `2`.\n",
    "* `CALC` represents how often a respondent drinks alcohol on a scale of `0` to `3`.\n",
    "* `Automobile`, `Bike`, `Motorbike`, `Public_Transportation`, and `Walking` indicate a respondent's primary mode of transportation. Their primary mode of transportation is indicated by a `1` and the other columns will contain a `0`.\n",
    "\n",
    "The outcome variable, `NObeyesdad`, is a `1` if a patient is obese and a `0` if not.\n",
    "\n",
    "Use the `.head()` method and inspect the data."
   ]
  },
  {
   "cell_type": "code",
   "execution_count": 2,
   "id": "533e5e04",
   "metadata": {},
   "outputs": [
    {
     "data": {
      "text/html": [
       "<div>\n",
       "<style scoped>\n",
       "    .dataframe tbody tr th:only-of-type {\n",
       "        vertical-align: middle;\n",
       "    }\n",
       "\n",
       "    .dataframe tbody tr th {\n",
       "        vertical-align: top;\n",
       "    }\n",
       "\n",
       "    .dataframe thead th {\n",
       "        text-align: right;\n",
       "    }\n",
       "</style>\n",
       "<table border=\"1\" class=\"dataframe\">\n",
       "  <thead>\n",
       "    <tr style=\"text-align: right;\">\n",
       "      <th></th>\n",
       "      <th>Gender</th>\n",
       "      <th>Age</th>\n",
       "      <th>Height</th>\n",
       "      <th>Weight</th>\n",
       "      <th>family_history_with_overweight</th>\n",
       "      <th>FAVC</th>\n",
       "      <th>FCVC</th>\n",
       "      <th>NCP</th>\n",
       "      <th>CAEC</th>\n",
       "      <th>SMOKE</th>\n",
       "      <th>CH2O</th>\n",
       "      <th>SCC</th>\n",
       "      <th>FAF</th>\n",
       "      <th>TUE</th>\n",
       "      <th>CALC</th>\n",
       "      <th>MTRANS</th>\n",
       "      <th>NObeyesdad</th>\n",
       "    </tr>\n",
       "  </thead>\n",
       "  <tbody>\n",
       "    <tr>\n",
       "      <th>0</th>\n",
       "      <td>Female</td>\n",
       "      <td>21.0</td>\n",
       "      <td>1.62</td>\n",
       "      <td>64.0</td>\n",
       "      <td>yes</td>\n",
       "      <td>no</td>\n",
       "      <td>2.0</td>\n",
       "      <td>3.0</td>\n",
       "      <td>Sometimes</td>\n",
       "      <td>no</td>\n",
       "      <td>2.0</td>\n",
       "      <td>no</td>\n",
       "      <td>0.0</td>\n",
       "      <td>1.0</td>\n",
       "      <td>no</td>\n",
       "      <td>Public_Transportation</td>\n",
       "      <td>Normal_Weight</td>\n",
       "    </tr>\n",
       "    <tr>\n",
       "      <th>1</th>\n",
       "      <td>Female</td>\n",
       "      <td>21.0</td>\n",
       "      <td>1.52</td>\n",
       "      <td>56.0</td>\n",
       "      <td>yes</td>\n",
       "      <td>no</td>\n",
       "      <td>3.0</td>\n",
       "      <td>3.0</td>\n",
       "      <td>Sometimes</td>\n",
       "      <td>yes</td>\n",
       "      <td>3.0</td>\n",
       "      <td>yes</td>\n",
       "      <td>3.0</td>\n",
       "      <td>0.0</td>\n",
       "      <td>Sometimes</td>\n",
       "      <td>Public_Transportation</td>\n",
       "      <td>Normal_Weight</td>\n",
       "    </tr>\n",
       "    <tr>\n",
       "      <th>2</th>\n",
       "      <td>Male</td>\n",
       "      <td>23.0</td>\n",
       "      <td>1.80</td>\n",
       "      <td>77.0</td>\n",
       "      <td>yes</td>\n",
       "      <td>no</td>\n",
       "      <td>2.0</td>\n",
       "      <td>3.0</td>\n",
       "      <td>Sometimes</td>\n",
       "      <td>no</td>\n",
       "      <td>2.0</td>\n",
       "      <td>no</td>\n",
       "      <td>2.0</td>\n",
       "      <td>1.0</td>\n",
       "      <td>Frequently</td>\n",
       "      <td>Public_Transportation</td>\n",
       "      <td>Normal_Weight</td>\n",
       "    </tr>\n",
       "    <tr>\n",
       "      <th>3</th>\n",
       "      <td>Male</td>\n",
       "      <td>27.0</td>\n",
       "      <td>1.80</td>\n",
       "      <td>87.0</td>\n",
       "      <td>no</td>\n",
       "      <td>no</td>\n",
       "      <td>3.0</td>\n",
       "      <td>3.0</td>\n",
       "      <td>Sometimes</td>\n",
       "      <td>no</td>\n",
       "      <td>2.0</td>\n",
       "      <td>no</td>\n",
       "      <td>2.0</td>\n",
       "      <td>0.0</td>\n",
       "      <td>Frequently</td>\n",
       "      <td>Walking</td>\n",
       "      <td>Overweight_Level_I</td>\n",
       "    </tr>\n",
       "    <tr>\n",
       "      <th>4</th>\n",
       "      <td>Male</td>\n",
       "      <td>22.0</td>\n",
       "      <td>1.78</td>\n",
       "      <td>89.8</td>\n",
       "      <td>no</td>\n",
       "      <td>no</td>\n",
       "      <td>2.0</td>\n",
       "      <td>1.0</td>\n",
       "      <td>Sometimes</td>\n",
       "      <td>no</td>\n",
       "      <td>2.0</td>\n",
       "      <td>no</td>\n",
       "      <td>0.0</td>\n",
       "      <td>0.0</td>\n",
       "      <td>Sometimes</td>\n",
       "      <td>Public_Transportation</td>\n",
       "      <td>Overweight_Level_II</td>\n",
       "    </tr>\n",
       "  </tbody>\n",
       "</table>\n",
       "</div>"
      ],
      "text/plain": [
       "   Gender   Age  Height  Weight family_history_with_overweight FAVC  FCVC  \\\n",
       "0  Female  21.0    1.62    64.0                            yes   no   2.0   \n",
       "1  Female  21.0    1.52    56.0                            yes   no   3.0   \n",
       "2    Male  23.0    1.80    77.0                            yes   no   2.0   \n",
       "3    Male  27.0    1.80    87.0                             no   no   3.0   \n",
       "4    Male  22.0    1.78    89.8                             no   no   2.0   \n",
       "\n",
       "   NCP       CAEC SMOKE  CH2O  SCC  FAF  TUE        CALC  \\\n",
       "0  3.0  Sometimes    no   2.0   no  0.0  1.0          no   \n",
       "1  3.0  Sometimes   yes   3.0  yes  3.0  0.0   Sometimes   \n",
       "2  3.0  Sometimes    no   2.0   no  2.0  1.0  Frequently   \n",
       "3  3.0  Sometimes    no   2.0   no  2.0  0.0  Frequently   \n",
       "4  1.0  Sometimes    no   2.0   no  0.0  0.0   Sometimes   \n",
       "\n",
       "                  MTRANS           NObeyesdad  \n",
       "0  Public_Transportation        Normal_Weight  \n",
       "1  Public_Transportation        Normal_Weight  \n",
       "2  Public_Transportation        Normal_Weight  \n",
       "3                Walking   Overweight_Level_I  \n",
       "4  Public_Transportation  Overweight_Level_II  "
      ]
     },
     "execution_count": 2,
     "metadata": {},
     "output_type": "execute_result"
    }
   ],
   "source": [
    "# https://archive.ics.uci.edu/ml/datasets/Estimation+of+obesity+levels+based+on+eating+habits+and+physical+condition+\n",
    "\n",
    "# Load the data\n",
    "obesity = pd.read_csv(\"obesity.csv\")\n",
    "\n",
    "# Inspect the data\n",
    "obesity.head()"
   ]
  },
  {
   "cell_type": "markdown",
   "id": "3036cbda",
   "metadata": {},
   "source": [
    "### Split the data into `X` and `y`\n",
    "\n",
    "In order to use a linear regression model, you'll need to split the data into two parts: the predictor variables and an outcome variable. Do this by splitting the data into a DataFrame of predictor variables called `X` and a Series of outcome variables `y`."
   ]
  },
  {
   "cell_type": "code",
   "execution_count": 3,
   "id": "e2824391",
   "metadata": {},
   "outputs": [],
   "source": [
    "X = obesity.drop(['NObeyesdad','Height', 'Weight'], axis=1)\n",
    "y = obesity['NObeyesdad']"
   ]
  },
  {
   "cell_type": "code",
   "execution_count": 4,
   "id": "ad6da967",
   "metadata": {},
   "outputs": [],
   "source": [
    "binary_encoder = preprocessing.LabelEncoder().fit(['no','yes'])\n",
    "gender_encoder = preprocessing.LabelEncoder().fit(['Female','Male'])\n",
    "scale_dict = {'Always': 3, 'Frequently': 2, 'Sometimes': 1, 'no': 0}"
   ]
  },
  {
   "cell_type": "code",
   "execution_count": 5,
   "id": "1cfd0996",
   "metadata": {},
   "outputs": [
    {
     "data": {
      "text/plain": [
       "0    0\n",
       "1    0\n",
       "2    1\n",
       "3    1\n",
       "4    1\n",
       "Name: Gender, dtype: int64"
      ]
     },
     "execution_count": 5,
     "metadata": {},
     "output_type": "execute_result"
    }
   ],
   "source": [
    "X['Gender'] = gender_encoder.transform(X['Gender'])\n",
    "X.Gender.head()"
   ]
  },
  {
   "cell_type": "code",
   "execution_count": 6,
   "id": "ceade981",
   "metadata": {},
   "outputs": [
    {
     "data": {
      "text/html": [
       "<div>\n",
       "<style scoped>\n",
       "    .dataframe tbody tr th:only-of-type {\n",
       "        vertical-align: middle;\n",
       "    }\n",
       "\n",
       "    .dataframe tbody tr th {\n",
       "        vertical-align: top;\n",
       "    }\n",
       "\n",
       "    .dataframe thead th {\n",
       "        text-align: right;\n",
       "    }\n",
       "</style>\n",
       "<table border=\"1\" class=\"dataframe\">\n",
       "  <thead>\n",
       "    <tr style=\"text-align: right;\">\n",
       "      <th></th>\n",
       "      <th>index</th>\n",
       "      <th>family_history_with_overweight</th>\n",
       "      <th>FAVC</th>\n",
       "      <th>SMOKE</th>\n",
       "      <th>SCC</th>\n",
       "    </tr>\n",
       "  </thead>\n",
       "  <tbody>\n",
       "    <tr>\n",
       "      <th>0</th>\n",
       "      <td>0</td>\n",
       "      <td>1</td>\n",
       "      <td>0</td>\n",
       "      <td>0</td>\n",
       "      <td>0</td>\n",
       "    </tr>\n",
       "    <tr>\n",
       "      <th>1</th>\n",
       "      <td>1</td>\n",
       "      <td>1</td>\n",
       "      <td>0</td>\n",
       "      <td>1</td>\n",
       "      <td>1</td>\n",
       "    </tr>\n",
       "    <tr>\n",
       "      <th>2</th>\n",
       "      <td>2</td>\n",
       "      <td>1</td>\n",
       "      <td>0</td>\n",
       "      <td>0</td>\n",
       "      <td>0</td>\n",
       "    </tr>\n",
       "    <tr>\n",
       "      <th>3</th>\n",
       "      <td>3</td>\n",
       "      <td>0</td>\n",
       "      <td>0</td>\n",
       "      <td>0</td>\n",
       "      <td>0</td>\n",
       "    </tr>\n",
       "    <tr>\n",
       "      <th>4</th>\n",
       "      <td>4</td>\n",
       "      <td>0</td>\n",
       "      <td>0</td>\n",
       "      <td>0</td>\n",
       "      <td>0</td>\n",
       "    </tr>\n",
       "  </tbody>\n",
       "</table>\n",
       "</div>"
      ],
      "text/plain": [
       "   index  family_history_with_overweight  FAVC  SMOKE  SCC\n",
       "0      0                               1     0      0    0\n",
       "1      1                               1     0      1    1\n",
       "2      2                               1     0      0    0\n",
       "3      3                               0     0      0    0\n",
       "4      4                               0     0      0    0"
      ]
     },
     "execution_count": 6,
     "metadata": {},
     "output_type": "execute_result"
    }
   ],
   "source": [
    "binary_features = ['family_history_with_overweight','FAVC','SMOKE','SCC']\n",
    "for feature in binary_features:\n",
    "    X[feature] = binary_encoder.transform(X[feature])\n",
    "X[binary_features].reset_index().head()"
   ]
  },
  {
   "cell_type": "code",
   "execution_count": 7,
   "id": "7be6fda5",
   "metadata": {},
   "outputs": [],
   "source": [
    "X['CAEC'] = X['CAEC'].map(scale_dict)"
   ]
  },
  {
   "cell_type": "code",
   "execution_count": 8,
   "id": "5fea22fd",
   "metadata": {},
   "outputs": [],
   "source": [
    "X['CALC'] = X['CALC'].map(scale_dict)"
   ]
  },
  {
   "cell_type": "code",
   "execution_count": 9,
   "id": "68465ac1",
   "metadata": {},
   "outputs": [],
   "source": [
    "dummy_MTRANS = pd.get_dummies(X['MTRANS'])"
   ]
  },
  {
   "cell_type": "code",
   "execution_count": 10,
   "id": "80a34814",
   "metadata": {},
   "outputs": [],
   "source": [
    "X = pd.concat([X.drop('MTRANS', axis=1), dummy_MTRANS], axis=1)"
   ]
  },
  {
   "cell_type": "code",
   "execution_count": 11,
   "id": "fdd38e04",
   "metadata": {},
   "outputs": [
    {
     "data": {
      "text/html": [
       "<div>\n",
       "<style scoped>\n",
       "    .dataframe tbody tr th:only-of-type {\n",
       "        vertical-align: middle;\n",
       "    }\n",
       "\n",
       "    .dataframe tbody tr th {\n",
       "        vertical-align: top;\n",
       "    }\n",
       "\n",
       "    .dataframe thead th {\n",
       "        text-align: right;\n",
       "    }\n",
       "</style>\n",
       "<table border=\"1\" class=\"dataframe\">\n",
       "  <thead>\n",
       "    <tr style=\"text-align: right;\">\n",
       "      <th></th>\n",
       "      <th>Gender</th>\n",
       "      <th>Age</th>\n",
       "      <th>family_history_with_overweight</th>\n",
       "      <th>FAVC</th>\n",
       "      <th>FCVC</th>\n",
       "      <th>NCP</th>\n",
       "      <th>CAEC</th>\n",
       "      <th>SMOKE</th>\n",
       "      <th>CH2O</th>\n",
       "      <th>SCC</th>\n",
       "      <th>FAF</th>\n",
       "      <th>TUE</th>\n",
       "      <th>CALC</th>\n",
       "      <th>Automobile</th>\n",
       "      <th>Bike</th>\n",
       "      <th>Motorbike</th>\n",
       "      <th>Public_Transportation</th>\n",
       "      <th>Walking</th>\n",
       "    </tr>\n",
       "  </thead>\n",
       "  <tbody>\n",
       "    <tr>\n",
       "      <th>0</th>\n",
       "      <td>0</td>\n",
       "      <td>21.0</td>\n",
       "      <td>1</td>\n",
       "      <td>0</td>\n",
       "      <td>2.0</td>\n",
       "      <td>3.0</td>\n",
       "      <td>1</td>\n",
       "      <td>0</td>\n",
       "      <td>2.0</td>\n",
       "      <td>0</td>\n",
       "      <td>0.0</td>\n",
       "      <td>1.0</td>\n",
       "      <td>0</td>\n",
       "      <td>0</td>\n",
       "      <td>0</td>\n",
       "      <td>0</td>\n",
       "      <td>1</td>\n",
       "      <td>0</td>\n",
       "    </tr>\n",
       "    <tr>\n",
       "      <th>1</th>\n",
       "      <td>0</td>\n",
       "      <td>21.0</td>\n",
       "      <td>1</td>\n",
       "      <td>0</td>\n",
       "      <td>3.0</td>\n",
       "      <td>3.0</td>\n",
       "      <td>1</td>\n",
       "      <td>1</td>\n",
       "      <td>3.0</td>\n",
       "      <td>1</td>\n",
       "      <td>3.0</td>\n",
       "      <td>0.0</td>\n",
       "      <td>1</td>\n",
       "      <td>0</td>\n",
       "      <td>0</td>\n",
       "      <td>0</td>\n",
       "      <td>1</td>\n",
       "      <td>0</td>\n",
       "    </tr>\n",
       "    <tr>\n",
       "      <th>2</th>\n",
       "      <td>1</td>\n",
       "      <td>23.0</td>\n",
       "      <td>1</td>\n",
       "      <td>0</td>\n",
       "      <td>2.0</td>\n",
       "      <td>3.0</td>\n",
       "      <td>1</td>\n",
       "      <td>0</td>\n",
       "      <td>2.0</td>\n",
       "      <td>0</td>\n",
       "      <td>2.0</td>\n",
       "      <td>1.0</td>\n",
       "      <td>2</td>\n",
       "      <td>0</td>\n",
       "      <td>0</td>\n",
       "      <td>0</td>\n",
       "      <td>1</td>\n",
       "      <td>0</td>\n",
       "    </tr>\n",
       "    <tr>\n",
       "      <th>3</th>\n",
       "      <td>1</td>\n",
       "      <td>27.0</td>\n",
       "      <td>0</td>\n",
       "      <td>0</td>\n",
       "      <td>3.0</td>\n",
       "      <td>3.0</td>\n",
       "      <td>1</td>\n",
       "      <td>0</td>\n",
       "      <td>2.0</td>\n",
       "      <td>0</td>\n",
       "      <td>2.0</td>\n",
       "      <td>0.0</td>\n",
       "      <td>2</td>\n",
       "      <td>0</td>\n",
       "      <td>0</td>\n",
       "      <td>0</td>\n",
       "      <td>0</td>\n",
       "      <td>1</td>\n",
       "    </tr>\n",
       "    <tr>\n",
       "      <th>4</th>\n",
       "      <td>1</td>\n",
       "      <td>22.0</td>\n",
       "      <td>0</td>\n",
       "      <td>0</td>\n",
       "      <td>2.0</td>\n",
       "      <td>1.0</td>\n",
       "      <td>1</td>\n",
       "      <td>0</td>\n",
       "      <td>2.0</td>\n",
       "      <td>0</td>\n",
       "      <td>0.0</td>\n",
       "      <td>0.0</td>\n",
       "      <td>1</td>\n",
       "      <td>0</td>\n",
       "      <td>0</td>\n",
       "      <td>0</td>\n",
       "      <td>1</td>\n",
       "      <td>0</td>\n",
       "    </tr>\n",
       "  </tbody>\n",
       "</table>\n",
       "</div>"
      ],
      "text/plain": [
       "   Gender   Age  family_history_with_overweight  FAVC  FCVC  NCP  CAEC  SMOKE  \\\n",
       "0       0  21.0                               1     0   2.0  3.0     1      0   \n",
       "1       0  21.0                               1     0   3.0  3.0     1      1   \n",
       "2       1  23.0                               1     0   2.0  3.0     1      0   \n",
       "3       1  27.0                               0     0   3.0  3.0     1      0   \n",
       "4       1  22.0                               0     0   2.0  1.0     1      0   \n",
       "\n",
       "   CH2O  SCC  FAF  TUE  CALC  Automobile  Bike  Motorbike  \\\n",
       "0   2.0    0  0.0  1.0     0           0     0          0   \n",
       "1   3.0    1  3.0  0.0     1           0     0          0   \n",
       "2   2.0    0  2.0  1.0     2           0     0          0   \n",
       "3   2.0    0  2.0  0.0     2           0     0          0   \n",
       "4   2.0    0  0.0  0.0     1           0     0          0   \n",
       "\n",
       "   Public_Transportation  Walking  \n",
       "0                      1        0  \n",
       "1                      1        0  \n",
       "2                      1        0  \n",
       "3                      0        1  \n",
       "4                      1        0  "
      ]
     },
     "execution_count": 11,
     "metadata": {},
     "output_type": "execute_result"
    }
   ],
   "source": [
    "X.head()"
   ]
  },
  {
   "cell_type": "code",
   "execution_count": 12,
   "id": "8c0f25f3",
   "metadata": {},
   "outputs": [],
   "source": [
    "y = y.apply(lambda x: 1 if 'Obesity' in x else 0)"
   ]
  },
  {
   "cell_type": "markdown",
   "id": "32be1c51",
   "metadata": {},
   "source": [
    "### Logistic regression model\n",
    "\n",
    "Create a logistic regression model called `lr`. Include the parameter `max_iter=1000` to make sure that the model will converge when you try to fit it."
   ]
  },
  {
   "cell_type": "code",
   "execution_count": 13,
   "id": "32bcc720",
   "metadata": {},
   "outputs": [],
   "source": [
    "lr = LogisticRegression(max_iter=1000)"
   ]
  },
  {
   "cell_type": "markdown",
   "id": "e13eb916",
   "metadata": {},
   "source": [
    "### Fit the model\n",
    "\n",
    "Use the `.fit()` method on `lr` to fit the model to `X` and `y`."
   ]
  },
  {
   "cell_type": "code",
   "execution_count": 14,
   "id": "639fbc2f",
   "metadata": {},
   "outputs": [
    {
     "data": {
      "text/plain": [
       "LogisticRegression(max_iter=1000)"
      ]
     },
     "execution_count": 14,
     "metadata": {},
     "output_type": "execute_result"
    }
   ],
   "source": [
    "lr.fit(X,y)"
   ]
  },
  {
   "cell_type": "markdown",
   "id": "74446194",
   "metadata": {},
   "source": [
    "### Model accuracy\n",
    "\n",
    "A model's _accuracy_ is the proportion of classes that the model correctly predicts. is Compute and print the accuracy of `lr` by using the `.score()` method. What percentage of respondents did the model correctly predict as being either obese or not obese? You may want to write this number down somewhere so that you can refer to it during future tasks."
   ]
  },
  {
   "cell_type": "code",
   "execution_count": 15,
   "id": "5c70e50f",
   "metadata": {},
   "outputs": [
    {
     "data": {
      "text/plain": [
       "0.7659876835622927"
      ]
     },
     "execution_count": 15,
     "metadata": {},
     "output_type": "execute_result"
    }
   ],
   "source": [
    "lr.score(X,y)"
   ]
  },
  {
   "cell_type": "markdown",
   "id": "d319a97e",
   "metadata": {},
   "source": [
    "## Sequential Forward Selection\n",
    "\n",
    "Now that you've created a logistic regression model and evaluated its performance, you're ready to do some feature selection. \n",
    "\n",
    "Create a sequential forward selection model called `sfs`. \n",
    "* Be sure to set the `estimator` parameter to `lr` and set the `forward` and `floating` parameters to the appropriate values. \n",
    "* Also use the parameters `k_features=9`, `scoring='accuracy'`, and `cv=0`."
   ]
  },
  {
   "cell_type": "code",
   "execution_count": 16,
   "id": "23de4fd9",
   "metadata": {},
   "outputs": [],
   "source": [
    "sfs = SFS(\n",
    "    lr,\n",
    "    k_features=9,\n",
    "    forward=True,\n",
    "    floating=False,\n",
    "    scoring='accuracy',\n",
    "    cv=0\n",
    ")"
   ]
  },
  {
   "cell_type": "markdown",
   "id": "419041c7",
   "metadata": {},
   "source": [
    "### Fit the model\n",
    "\n",
    "Use the `.fit()` method on `sfs` to fit the model to `X` and `y`. This step will take some time (not more than a minute) to run."
   ]
  },
  {
   "cell_type": "code",
   "execution_count": 17,
   "id": "05667638",
   "metadata": {},
   "outputs": [
    {
     "data": {
      "text/plain": [
       "SequentialFeatureSelector(cv=0, estimator=LogisticRegression(max_iter=1000),\n",
       "                          k_features=(9, 9), scoring='accuracy')"
      ]
     },
     "execution_count": 17,
     "metadata": {},
     "output_type": "execute_result"
    }
   ],
   "source": [
    "sfs.fit(X,y)"
   ]
  },
  {
   "cell_type": "markdown",
   "id": "cdbd1096",
   "metadata": {},
   "source": [
    "### Inspect the results\n",
    "\n",
    "Now that you've run the sequential forward selection algorithm on the logistic regression model with `X` and `y` you can see what features were chosen and check the model accuracy on the smaller feature set. Print `sfs.subsets_[9]` to inspect the results of sequential forward selection."
   ]
  },
  {
   "cell_type": "code",
   "execution_count": 18,
   "id": "cd9efa73",
   "metadata": {},
   "outputs": [
    {
     "name": "stdout",
     "output_type": "stream",
     "text": [
      "{'feature_idx': (0, 1, 2, 3, 6, 9, 10, 14, 17), 'cv_scores': array([0.78351492]), 'avg_score': 0.7835149218379914, 'feature_names': ('Gender', 'Age', 'family_history_with_overweight', 'FAVC', 'CAEC', 'SCC', 'FAF', 'Bike', 'Walking')}\n"
     ]
    }
   ],
   "source": [
    "print(sfs.subsets_[9])"
   ]
  },
  {
   "cell_type": "markdown",
   "id": "c4df0f3a",
   "metadata": {},
   "source": [
    "### Chosen features and model accuracy\n",
    "\n",
    "Use the dictionary `sfs.subsets_[9]` to print a tuple of chosen feature names. Then use it to print the accuracy of the model after doing sequential forward selection. How does this compare to the model's accuracy on all available features?"
   ]
  },
  {
   "cell_type": "code",
   "execution_count": 19,
   "id": "d8d20f42",
   "metadata": {},
   "outputs": [
    {
     "name": "stdout",
     "output_type": "stream",
     "text": [
      "('Gender', 'Age', 'family_history_with_overweight', 'FAVC', 'CAEC', 'SCC', 'FAF', 'Bike', 'Walking')\n",
      "0.7835149218379914\n"
     ]
    }
   ],
   "source": [
    "print(sfs.subsets_[9]['feature_names'])\n",
    "print(sfs.subsets_[9]['avg_score'])"
   ]
  },
  {
   "cell_type": "markdown",
   "id": "d85fea94",
   "metadata": {},
   "source": [
    "### Visualize model accuracy\n",
    "\n",
    "It can be helpful to visualize the results of sequential forward selection and see how accuracy is affected as each feature is added. Use the code `plot_sfs(sfs.get_metric_dict())` to plot the model accuracy as a function of the number of features used. Make sure to show your plot as well."
   ]
  },
  {
   "cell_type": "code",
   "execution_count": 20,
   "id": "76f0c5b2",
   "metadata": {
    "scrolled": true
   },
   "outputs": [
    {
     "name": "stderr",
     "output_type": "stream",
     "text": [
      "/home/fillo/anaconda3/lib/python3.9/site-packages/numpy/core/_methods.py:262: RuntimeWarning: Degrees of freedom <= 0 for slice\n",
      "  ret = _var(a, axis=axis, dtype=dtype, out=out, ddof=ddof,\n",
      "/home/fillo/anaconda3/lib/python3.9/site-packages/numpy/core/_methods.py:254: RuntimeWarning: invalid value encountered in double_scalars\n",
      "  ret = ret.dtype.type(ret / rcount)\n"
     ]
    },
    {
     "data": {
      "image/png": "[encoded data removed]",
      "text/plain": [
       "<Figure size 640x480 with 1 Axes>"
      ]
     },
     "metadata": {},
     "output_type": "display_data"
    }
   ],
   "source": [
    "plot_sfs(sfs.get_metric_dict())\n",
    "plt.show()"
   ]
  },
  {
   "cell_type": "markdown",
   "id": "86a28b92",
   "metadata": {},
   "source": [
    "## Sequential Backward Selection"
   ]
  },
  {
   "cell_type": "markdown",
   "id": "04d86b9d",
   "metadata": {},
   "source": [
    "Sequential forward selection was able to find a feature subset that performed marginally better than the full feature set. Let's use a different sequential method and see how it compares.\n",
    "\n",
    "Create a sequential backward selection model called `sbs`. \n",
    "* Be sure to set the `estimator` parameter to `lr` and set the `forward` and `floating` parameters to the appropriate values.\n",
    "* Also use the parameters `k_features=7`, `scoring='accuracy'`, and `cv=0`."
   ]
  },
  {
   "cell_type": "code",
   "execution_count": 21,
   "id": "7fd9e2f5",
   "metadata": {},
   "outputs": [],
   "source": [
    "sbs = SFS(\n",
    "    lr,\n",
    "    forward=False,\n",
    "    floating=False,\n",
    "    k_features=7,\n",
    "    scoring='accuracy',\n",
    "    cv=0\n",
    ")"
   ]
  },
  {
   "cell_type": "markdown",
   "id": "1a6becbe",
   "metadata": {},
   "source": [
    "### Fit the model\n",
    "\n",
    "Use the `.fit()` method on `sbs` to fit the model to `X` and `y`."
   ]
  },
  {
   "cell_type": "code",
   "execution_count": 22,
   "id": "6b3e9301",
   "metadata": {},
   "outputs": [
    {
     "data": {
      "text/plain": [
       "SequentialFeatureSelector(cv=0, estimator=LogisticRegression(max_iter=1000),\n",
       "                          forward=False, k_features=(7, 7), scoring='accuracy')"
      ]
     },
     "execution_count": 22,
     "metadata": {},
     "output_type": "execute_result"
    }
   ],
   "source": [
    "sbs.fit(X,y)"
   ]
  },
  {
   "cell_type": "markdown",
   "id": "667e6c6b",
   "metadata": {},
   "source": [
    "### Inspect the results\n",
    "\n",
    "Now that you've run the sequential backward selection algorithm on the logistic regression model with `X` and `y` you can see what features were chosen and check the model accuracy on the smaller feature set. Print `sbs.subsets_[7]` to inspect the results of sequential backward selection."
   ]
  },
  {
   "cell_type": "code",
   "execution_count": 23,
   "id": "9f1aa1bc",
   "metadata": {},
   "outputs": [
    {
     "data": {
      "text/plain": [
       "{'feature_idx': (0, 1, 2, 3, 6, 9, 10),\n",
       " 'cv_scores': array([0.78209379]),\n",
       " 'avg_score': 0.7820937944102321,\n",
       " 'feature_names': ('Gender',\n",
       "  'Age',\n",
       "  'family_history_with_overweight',\n",
       "  'FAVC',\n",
       "  'CAEC',\n",
       "  'SCC',\n",
       "  'FAF')}"
      ]
     },
     "execution_count": 23,
     "metadata": {},
     "output_type": "execute_result"
    }
   ],
   "source": [
    "sbs.subsets_[7]"
   ]
  },
  {
   "cell_type": "markdown",
   "id": "683da76e",
   "metadata": {},
   "source": [
    "### Chosen features and model accuracy\n",
    "\n",
    "Use the dictionary `sbs.subsets_[7]` to print a tuple of chosen feature names. Then use it to print the accuracy of the model after doing sequential backward selection. How does this compare to the model's accuracy on all available features?"
   ]
  },
  {
   "cell_type": "code",
   "execution_count": 24,
   "id": "f0248a95",
   "metadata": {},
   "outputs": [
    {
     "name": "stdout",
     "output_type": "stream",
     "text": [
      "0.7820937944102321\n"
     ]
    }
   ],
   "source": [
    "print(sbs.subsets_[7]['avg_score'])"
   ]
  },
  {
   "cell_type": "markdown",
   "id": "7e238d53",
   "metadata": {},
   "source": [
    "### Visualize model accuracy\n",
    "\n",
    "You can visualize the results of sequential backward floating selection just as you did with sequential forward selection. Use the code `plot_sfs(sbs.get_metric_dict())` to plot the model accuracy as a function of the number of features used."
   ]
  },
  {
   "cell_type": "code",
   "execution_count": 25,
   "id": "618a449f",
   "metadata": {
    "scrolled": true
   },
   "outputs": [
    {
     "name": "stderr",
     "output_type": "stream",
     "text": [
      "/home/fillo/anaconda3/lib/python3.9/site-packages/numpy/core/_methods.py:262: RuntimeWarning: Degrees of freedom <= 0 for slice\n",
      "  ret = _var(a, axis=axis, dtype=dtype, out=out, ddof=ddof,\n",
      "/home/fillo/anaconda3/lib/python3.9/site-packages/numpy/core/_methods.py:254: RuntimeWarning: invalid value encountered in double_scalars\n",
      "  ret = ret.dtype.type(ret / rcount)\n"
     ]
    },
    {
     "data": {
      "image/png": "[encoded data removed]",
      "text/plain": [
       "<Figure size 640x480 with 1 Axes>"
      ]
     },
     "metadata": {},
     "output_type": "display_data"
    }
   ],
   "source": [
    "plot_sfs(sbs.get_metric_dict())\n",
    "plt.show()"
   ]
  },
  {
   "cell_type": "markdown",
   "id": "2327f7bb",
   "metadata": {},
   "source": [
    "## Recursive Feature Elimination"
   ]
  },
  {
   "cell_type": "markdown",
   "id": "f8d15661",
   "metadata": {},
   "source": [
    "So far you've tried two different sequential feature selection methods. Let's try one more: recursive feature elimination. First you'll standardize the data, then you'll fit the RFE model and inspect the results.\n",
    "\n",
    "At a later step of this project, you'll need to be able to access feature names. Enter the code `features = X.columns` for use later."
   ]
  },
  {
   "cell_type": "code",
   "execution_count": 26,
   "id": "7b342209",
   "metadata": {},
   "outputs": [],
   "source": [
    "features = X.columns"
   ]
  },
  {
   "cell_type": "markdown",
   "id": "1059af11",
   "metadata": {},
   "source": [
    "### Standardize the data\n",
    "\n",
    "Before doing applying recursive feature elimination it is necessary to standardize the data. Standardize `X` and save it as a DataFrame by creating a `StandardScaler()` object and using the `.fit_transform()` method."
   ]
  },
  {
   "cell_type": "code",
   "execution_count": 27,
   "id": "7e4c6281",
   "metadata": {},
   "outputs": [],
   "source": [
    "scaler = StandardScaler()\n",
    "X = pd.DataFrame(scaler.fit_transform(X))"
   ]
  },
  {
   "cell_type": "markdown",
   "id": "6b5372e8",
   "metadata": {},
   "source": [
    "### Recursive feature elimination model\n",
    "\n",
    "Create an `RFE()` object that selects `8` features. Be sure to set the `estimator` parameter to `lr`."
   ]
  },
  {
   "cell_type": "code",
   "execution_count": 29,
   "id": "08407151",
   "metadata": {},
   "outputs": [],
   "source": [
    "rfe = RFE(estimator=lr, n_features_to_select=8)"
   ]
  },
  {
   "cell_type": "markdown",
   "id": "24922ba8",
   "metadata": {},
   "source": [
    "### Fit the model\n",
    "\n",
    "Fit the recursive feature elimination model to `X` and `y`."
   ]
  },
  {
   "cell_type": "code",
   "execution_count": 30,
   "id": "cfdd79e5",
   "metadata": {},
   "outputs": [
    {
     "data": {
      "text/plain": [
       "RFE(estimator=LogisticRegression(max_iter=1000), n_features_to_select=8)"
      ]
     },
     "execution_count": 30,
     "metadata": {},
     "output_type": "execute_result"
    }
   ],
   "source": [
    "rfe.fit(X,y)"
   ]
  },
  {
   "cell_type": "markdown",
   "id": "9f489494",
   "metadata": {},
   "source": [
    "### Inspect chosen features\n",
    "\n",
    "Now that you've fit the RFE model you can evaluate the results. Create a list of chosen feature names and call it `rfe_features`. You can use a list comprehension and filter the features in `zip(features, rfe.support_)` based on whether their support is `True` (meaning the model kept them) or `False` (meaning the model eliminated them)."
   ]
  },
  {
   "cell_type": "code",
   "execution_count": 31,
   "id": "c43b4833",
   "metadata": {},
   "outputs": [],
   "source": [
    "rfe_features = [feature for (feature, support) in zip(features, rfe.support_) if support]"
   ]
  },
  {
   "cell_type": "markdown",
   "id": "1cc98307",
   "metadata": {},
   "source": [
    "### Model accuracy\n",
    "\n",
    "Use the `.score()` method on `rfe` and print the model accuracy after doing recursive feature elimination. How does this compare to the model's accuracy on all available features?"
   ]
  },
  {
   "cell_type": "code",
   "execution_count": 33,
   "id": "e0cff70f",
   "metadata": {},
   "outputs": [
    {
     "data": {
      "text/plain": [
       "0.7678825201326386"
      ]
     },
     "execution_count": 33,
     "metadata": {},
     "output_type": "execute_result"
    }
   ],
   "source": [
    "rfe.score(X,y)"
   ]
  }
 ],
 "metadata": {
  "kernelspec": {
   "display_name": "Python 3 (ipykernel)",
   "language": "python",
   "name": "python3"
  },
  "language_info": {
   "codemirror_mode": {
    "name": "ipython",
    "version": 3
   },
   "file_extension": ".py",
   "mimetype": "text/x-python",
   "name": "python",
   "nbconvert_exporter": "python",
   "pygments_lexer": "ipython3",
   "version": "3.9.13"
  }
 },
 "nbformat": 4,
 "nbformat_minor": 5
}
